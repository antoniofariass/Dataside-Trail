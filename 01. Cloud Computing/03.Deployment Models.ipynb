{
 "cells": [
  {
   "cell_type": "markdown",
   "metadata": {},
   "source": [
    "### Deployment Models"
   ]
  },
  {
   "attachments": {},
   "cell_type": "markdown",
   "metadata": {},
   "source": [
    "##### Private Cloud\n",
    "\n",
    "###### It's for exclusive use by a single organization comprising multiple consumers.\n",
    "\n",
    "##### Community Cloud \n",
    "\n",
    "###### The cloud infrastructure is provisioned for exclusive use by a specific community of consumers from organizations that have shared concerns. \n",
    "\n",
    "##### Public Cloud\n",
    "\n",
    "###### The most common cloud so far, its used by the general public (gmail, google)\n",
    "\n",
    "##### Hybrid Cloud \n",
    "\n",
    "###### Two or more distinct cloud infrastructes (private,community or public) that remain unique entities. "
   ]
  },
  {
   "cell_type": "markdown",
   "metadata": {},
   "source": []
  }
 ],
 "metadata": {
  "kernelspec": {
   "display_name": "Python 3",
   "language": "python",
   "name": "python3"
  },
  "language_info": {
   "codemirror_mode": {
    "name": "ipython",
    "version": 3
   },
   "file_extension": ".py",
   "mimetype": "text/x-python",
   "name": "python",
   "nbconvert_exporter": "python",
   "pygments_lexer": "ipython3",
   "version": "3.9.13"
  },
  "orig_nbformat": 4,
  "vscode": {
   "interpreter": {
    "hash": "22088ef271373e2cbf099a2df3479705078d4b70103bf40dba9301d6ee5dcef5"
   }
  }
 },
 "nbformat": 4,
 "nbformat_minor": 2
}
