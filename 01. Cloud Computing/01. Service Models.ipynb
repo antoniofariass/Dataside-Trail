{
 "cells": [
  {
   "attachments": {},
   "cell_type": "markdown",
   "metadata": {},
   "source": [
    "### Cloud Computing"
   ]
  },
  {
   "attachments": {},
   "cell_type": "markdown",
   "metadata": {},
   "source": [
    "#### What's cloud computing?\n",
    "\n",
    "###### Cloud computing is a model for enabling ubiquitous, convenient, on-demand network access to a shared pool of configurable computing resources (e.g., networks, servers, storage, applications, and services) that can be rapidly provisioned and released with minimal management effort or service provider interaction."
   ]
  },
  {
   "attachments": {},
   "cell_type": "markdown",
   "metadata": {},
   "source": [
    "#### Infrastructure as a Service (Iaas)\n",
    "\n",
    "##### What you manage: \n",
    "###### <p> Applications\n",
    "###### <p> Data \n",
    "###### <p> Runtime\n",
    "###### <p> Middleware \n",
    "###### <p> O/S\n",
    "\n",
    "##### What Delivered as a service manage (AWS, Azure, etc...): \n",
    "###### <p> O/S\n",
    "###### <p> Virtualization\n",
    "###### <p> Servers \n",
    "###### <p> Storage \n",
    "###### <p> Networking \n"
   ]
  },
  {
   "attachments": {},
   "cell_type": "markdown",
   "metadata": {},
   "source": [
    "#### Platform as a Service (PaaS)\n",
    "\n",
    "##### What you manage: \n",
    "###### <p> Applications\n",
    "###### <p> Data \n",
    "\n",
    "##### What Delivered as a service manage (AWS, Azure, etc...): \n",
    "###### <p> Applications\n",
    "###### <p> Data \n",
    "###### <p> Runtime\n",
    "###### <p> Middleware \n",
    "###### <p> O/S\n",
    "###### <p> Virtualization\n",
    "###### <p> Servers \n",
    "###### <p> Storage \n",
    "###### <p> Networking \n"
   ]
  },
  {
   "attachments": {},
   "cell_type": "markdown",
   "metadata": {},
   "source": [
    "#### Software as a Service (SaaS)\n",
    "\n",
    "##### What you manage: \n",
    "\n",
    "\n",
    "##### What Delivered as a service manage (Gmail, SF.com): \n",
    "###### <p> Applications\n",
    "###### <p> Data \n",
    "###### <p> Runtime\n",
    "###### <p> Middleware \n",
    "###### <p> O/S\n",
    "###### <p> Virtualization\n",
    "###### <p> Servers }\n",
    "###### <p> Storage \n",
    "###### <p> Networking \n",
    "\n",
    "###### Ex: Gmail, you don't now where are storaged but you can use the application. You can make some configuration, but the most part of them is managed by someone else. "
   ]
  },
  {
   "cell_type": "markdown",
   "metadata": {},
   "source": []
  }
 ],
 "metadata": {
  "kernelspec": {
   "display_name": "Python 3",
   "language": "python",
   "name": "python3"
  },
  "language_info": {
   "name": "python",
   "version": "3.9.13 (tags/v3.9.13:6de2ca5, May 17 2022, 16:36:42) [MSC v.1929 64 bit (AMD64)]"
  },
  "orig_nbformat": 4,
  "vscode": {
   "interpreter": {
    "hash": "22088ef271373e2cbf099a2df3479705078d4b70103bf40dba9301d6ee5dcef5"
   }
  }
 },
 "nbformat": 4,
 "nbformat_minor": 2
}
