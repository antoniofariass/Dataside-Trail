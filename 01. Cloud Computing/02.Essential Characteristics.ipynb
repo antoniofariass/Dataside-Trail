{
 "cells": [
  {
   "cell_type": "markdown",
   "metadata": {},
   "source": [
    "### 5 Essential Characteristics of Cloud Computing"
   ]
  },
  {
   "attachments": {},
   "cell_type": "markdown",
   "metadata": {},
   "source": [
    "#### 1. On demand self-service\n",
    "\n",
    "###### A consumer can unilaterally provision computing capabilities without requiring human interaction with each service provider. "
   ]
  },
  {
   "attachments": {},
   "cell_type": "markdown",
   "metadata": {},
   "source": [
    "#### 2. Broad network acess\n",
    "\n",
    "###### You can access network through standard mechanisms, each means, any mobile phone, tablet or laptops who are connected in a network."
   ]
  },
  {
   "attachments": {},
   "cell_type": "markdown",
   "metadata": {},
   "source": [
    "#### 3. Resource pooling\n",
    "\n",
    "###### The resource is pooled for many customers, but the customer has access to their respective resource, that is, multi-tenant."
   ]
  },
  {
   "attachments": {},
   "cell_type": "markdown",
   "metadata": {},
   "source": [
    "#### 4. Rapid elasticity\n",
    "\n",
    "###### If your resource need a upgrade or more storage, the cloud can adapt with elasticity and expand their network to give what the resource need."
   ]
  },
  {
   "attachments": {},
   "cell_type": "markdown",
   "metadata": {},
   "source": [
    "#### 5. Measured service \n",
    "\n",
    "###### The cloud provides a transparency about the costs, you'll know about storage, machine or all cloud is costing to you and can control or put limits or metrics to be achieve."
   ]
  },
  {
   "cell_type": "markdown",
   "metadata": {},
   "source": []
  }
 ],
 "metadata": {
  "language_info": {
   "name": "python"
  },
  "orig_nbformat": 4
 },
 "nbformat": 4,
 "nbformat_minor": 2
}
