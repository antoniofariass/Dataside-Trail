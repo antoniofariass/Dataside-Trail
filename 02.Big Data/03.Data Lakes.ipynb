{
 "cells": [
  {
   "attachments": {},
   "cell_type": "markdown",
   "metadata": {},
   "source": [
    "##### Data Lakes\n",
    "###### A data lake is a centralized repository that allows you to store all your structured and unstructured data at any scale. It's the inverse of Data Warehouse, in warehouse the ETL is before the storage.\n",
    "##### Benefits:\n",
    "###### 1. Storage in raw format.\n",
    "###### 2. Import data from any source in live.\n",
    "###### 3. Central repository for all data of an organization.\n",
    "###### 4. No necessity to move data from one system to another."
   ]
  },
  {
   "cell_type": "markdown",
   "metadata": {},
   "source": []
  }
 ],
 "metadata": {
  "kernelspec": {
   "display_name": "Python 3",
   "language": "python",
   "name": "python3"
  },
  "language_info": {
   "name": "python",
   "version": "3.9.13 (tags/v3.9.13:6de2ca5, May 17 2022, 16:36:42) [MSC v.1929 64 bit (AMD64)]"
  },
  "orig_nbformat": 4,
  "vscode": {
   "interpreter": {
    "hash": "22088ef271373e2cbf099a2df3479705078d4b70103bf40dba9301d6ee5dcef5"
   }
  }
 },
 "nbformat": 4,
 "nbformat_minor": 2
}
