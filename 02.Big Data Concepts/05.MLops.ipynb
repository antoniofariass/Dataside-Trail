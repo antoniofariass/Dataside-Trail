{
 "cells": [
  {
   "attachments": {},
   "cell_type": "markdown",
   "metadata": {},
   "source": [
    "##### Machine Learning\n",
    "###### It is a sub-area of Artificial Intelligence (AI) that provides systems the ability to automatically learn and improve from experience without being explicitly programmed.\n"
   ]
  },
  {
   "attachments": {},
   "cell_type": "markdown",
   "metadata": {},
   "source": [
    "##### Pipeline:\n",
    "###### 1. Data preparation\n",
    "###### 2. Model construction and training\n",
    "###### 3. Model deployment\n"
   ]
  },
  {
   "attachments": {},
   "cell_type": "markdown",
   "metadata": {},
   "source": [
    "##### MLops:\n",
    "###### It is a set of practices and comunication between Data Scientist e DevOps.\n",
    "\n",
    "###### The aplication of this practices improve the quality of the model and the efficiency of the development process.\n",
    "\n",
    "###### 1. Machine Learning\n",
    "###### 2. Development\n",
    "###### 3. Operations\n"
   ]
  },
  {
   "cell_type": "markdown",
   "metadata": {},
   "source": []
  }
 ],
 "metadata": {
  "kernelspec": {
   "display_name": "Python 3",
   "language": "python",
   "name": "python3"
  },
  "language_info": {
   "name": "python",
   "version": "3.9.13 (tags/v3.9.13:6de2ca5, May 17 2022, 16:36:42) [MSC v.1929 64 bit (AMD64)]"
  },
  "orig_nbformat": 4,
  "vscode": {
   "interpreter": {
    "hash": "22088ef271373e2cbf099a2df3479705078d4b70103bf40dba9301d6ee5dcef5"
   }
  }
 },
 "nbformat": 4,
 "nbformat_minor": 2
}
