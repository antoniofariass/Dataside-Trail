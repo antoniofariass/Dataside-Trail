{
 "cells": [
  {
   "attachments": {},
   "cell_type": "markdown",
   "metadata": {},
   "source": [
    "##### Data Stores\n",
    "###### A Data Store is a connection to a store of data, whether the data is stored in a database or in one or more files. \n",
    "##### Benefits:\n",
    "###### 1. Storage varied type of data.\n",
    "###### 2. Flexibility\n",
    "###### 3. Suport to data semi-structured\n",
    "###### 4. Lower total cost   "
   ]
  }
 ],
 "metadata": {
  "kernelspec": {
   "display_name": "Python 3",
   "language": "python",
   "name": "python3"
  },
  "language_info": {
   "name": "python",
   "version": "3.9.13 (tags/v3.9.13:6de2ca5, May 17 2022, 16:36:42) [MSC v.1929 64 bit (AMD64)]"
  },
  "orig_nbformat": 4,
  "vscode": {
   "interpreter": {
    "hash": "22088ef271373e2cbf099a2df3479705078d4b70103bf40dba9301d6ee5dcef5"
   }
  }
 },
 "nbformat": 4,
 "nbformat_minor": 2
}
